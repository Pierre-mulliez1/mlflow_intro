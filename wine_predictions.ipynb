{
 "cells": [
  {
   "cell_type": "markdown",
   "metadata": {},
   "source": [
    "# Wine prediction \n",
    "**Author**: Pierre Mulliez \\\n",
    "**Created**: 04/06/2021 \\\n",
    "**Description**: Run a machine learning model using Mlflow \\\n",
    "**Contact**: pierremulliez1@gmail.cim"
   ]
  },
  {
   "cell_type": "code",
   "execution_count": 19,
   "metadata": {},
   "outputs": [],
   "source": [
    "#Load and import libraries \n",
    "import mlflow\n",
    "import mlflow.sklearn\n",
    "import pandas as pd \n",
    "import numpy as np \n",
    "import shutil  \n",
    "from sklearn import preprocessing\n",
    "from sklearn.model_selection import train_test_split\n",
    "from sklearn.neighbors import KNeighborsClassifier\n",
    "from sklearn.metrics import mean_absolute_error\n",
    "from sklearn.metrics import mean_squared_error\n",
    "from sklearn.metrics import r2_score\n",
    "import matplotlib.pyplot as plt"
   ]
  },
  {
   "cell_type": "code",
   "execution_count": 20,
   "metadata": {},
   "outputs": [],
   "source": [
    "#change directory \n",
    "!cd C:/Users/Pierre Computer/Documents/IE_classes/MLops/Assignment1_Pierre_Mulliez"
   ]
  },
  {
   "cell_type": "code",
   "execution_count": 21,
   "metadata": {},
   "outputs": [],
   "source": [
    "#Delete last runs directory\n",
    "try:\n",
    "    shutil.rmtree('./mlruns')\n",
    "except FileNotFoundError:\n",
    "    print(\"WARNING: Can't find folder mlruns\")"
   ]
  },
  {
   "cell_type": "code",
   "execution_count": 22,
   "metadata": {},
   "outputs": [],
   "source": [
    "pathdirectory = \"./winequality-red.csv\"\n",
    "df = pd.DataFrame(pd.read_csv(pathdirectory))"
   ]
  },
  {
   "cell_type": "code",
   "execution_count": 23,
   "metadata": {},
   "outputs": [
    {
     "name": "stdout",
     "output_type": "stream",
     "text": [
      "The different quality grades in the dataset are: [3 4 5 6 7 8]\n",
      "Do we have any null values ? \n",
      "{'fixed acidity': 0, 'volatile acidity': 0, 'citric acid': 0, 'residual sugar': 0, 'chlorides': 0, 'free sulfur dioxide': 0, 'total sulfur dioxide': 0, 'density': 0, 'pH': 0, 'sulphates': 0, 'alcohol': 0, 'quality': 0}\n"
     ]
    },
    {
     "data": {
      "text/html": [
       "<div>\n",
       "<style scoped>\n",
       "    .dataframe tbody tr th:only-of-type {\n",
       "        vertical-align: middle;\n",
       "    }\n",
       "\n",
       "    .dataframe tbody tr th {\n",
       "        vertical-align: top;\n",
       "    }\n",
       "\n",
       "    .dataframe thead th {\n",
       "        text-align: right;\n",
       "    }\n",
       "</style>\n",
       "<table border=\"1\" class=\"dataframe\">\n",
       "  <thead>\n",
       "    <tr style=\"text-align: right;\">\n",
       "      <th></th>\n",
       "      <th>fixed acidity</th>\n",
       "      <th>volatile acidity</th>\n",
       "      <th>citric acid</th>\n",
       "      <th>residual sugar</th>\n",
       "      <th>chlorides</th>\n",
       "      <th>free sulfur dioxide</th>\n",
       "      <th>total sulfur dioxide</th>\n",
       "      <th>density</th>\n",
       "      <th>pH</th>\n",
       "      <th>sulphates</th>\n",
       "      <th>alcohol</th>\n",
       "      <th>quality</th>\n",
       "    </tr>\n",
       "  </thead>\n",
       "  <tbody>\n",
       "    <tr>\n",
       "      <th>0</th>\n",
       "      <td>7.4</td>\n",
       "      <td>0.70</td>\n",
       "      <td>0.00</td>\n",
       "      <td>1.9</td>\n",
       "      <td>0.076</td>\n",
       "      <td>11.0</td>\n",
       "      <td>34.0</td>\n",
       "      <td>0.9978</td>\n",
       "      <td>3.51</td>\n",
       "      <td>0.56</td>\n",
       "      <td>9.4</td>\n",
       "      <td>5</td>\n",
       "    </tr>\n",
       "    <tr>\n",
       "      <th>1</th>\n",
       "      <td>7.8</td>\n",
       "      <td>0.88</td>\n",
       "      <td>0.00</td>\n",
       "      <td>2.6</td>\n",
       "      <td>0.098</td>\n",
       "      <td>25.0</td>\n",
       "      <td>67.0</td>\n",
       "      <td>0.9968</td>\n",
       "      <td>3.20</td>\n",
       "      <td>0.68</td>\n",
       "      <td>9.8</td>\n",
       "      <td>5</td>\n",
       "    </tr>\n",
       "    <tr>\n",
       "      <th>2</th>\n",
       "      <td>7.8</td>\n",
       "      <td>0.76</td>\n",
       "      <td>0.04</td>\n",
       "      <td>2.3</td>\n",
       "      <td>0.092</td>\n",
       "      <td>15.0</td>\n",
       "      <td>54.0</td>\n",
       "      <td>0.9970</td>\n",
       "      <td>3.26</td>\n",
       "      <td>0.65</td>\n",
       "      <td>9.8</td>\n",
       "      <td>5</td>\n",
       "    </tr>\n",
       "    <tr>\n",
       "      <th>3</th>\n",
       "      <td>11.2</td>\n",
       "      <td>0.28</td>\n",
       "      <td>0.56</td>\n",
       "      <td>1.9</td>\n",
       "      <td>0.075</td>\n",
       "      <td>17.0</td>\n",
       "      <td>60.0</td>\n",
       "      <td>0.9980</td>\n",
       "      <td>3.16</td>\n",
       "      <td>0.58</td>\n",
       "      <td>9.8</td>\n",
       "      <td>6</td>\n",
       "    </tr>\n",
       "    <tr>\n",
       "      <th>4</th>\n",
       "      <td>7.4</td>\n",
       "      <td>0.70</td>\n",
       "      <td>0.00</td>\n",
       "      <td>1.9</td>\n",
       "      <td>0.076</td>\n",
       "      <td>11.0</td>\n",
       "      <td>34.0</td>\n",
       "      <td>0.9978</td>\n",
       "      <td>3.51</td>\n",
       "      <td>0.56</td>\n",
       "      <td>9.4</td>\n",
       "      <td>5</td>\n",
       "    </tr>\n",
       "  </tbody>\n",
       "</table>\n",
       "</div>"
      ],
      "text/plain": [
       "   fixed acidity  volatile acidity  citric acid  residual sugar  chlorides  \\\n",
       "0            7.4              0.70         0.00             1.9      0.076   \n",
       "1            7.8              0.88         0.00             2.6      0.098   \n",
       "2            7.8              0.76         0.04             2.3      0.092   \n",
       "3           11.2              0.28         0.56             1.9      0.075   \n",
       "4            7.4              0.70         0.00             1.9      0.076   \n",
       "\n",
       "   free sulfur dioxide  total sulfur dioxide  density    pH  sulphates  \\\n",
       "0                 11.0                  34.0   0.9978  3.51       0.56   \n",
       "1                 25.0                  67.0   0.9968  3.20       0.68   \n",
       "2                 15.0                  54.0   0.9970  3.26       0.65   \n",
       "3                 17.0                  60.0   0.9980  3.16       0.58   \n",
       "4                 11.0                  34.0   0.9978  3.51       0.56   \n",
       "\n",
       "   alcohol  quality  \n",
       "0      9.4        5  \n",
       "1      9.8        5  \n",
       "2      9.8        5  \n",
       "3      9.8        6  \n",
       "4      9.4        5  "
      ]
     },
     "execution_count": 23,
     "metadata": {},
     "output_type": "execute_result"
    }
   ],
   "source": [
    "print(\"The different quality grades in the dataset are: {}\".format(np.sort(df.quality.unique())))\n",
    "print(\"Do we have any null values ? \")\n",
    "print({col: np.sum(np.isnan(df.loc[:,col])) for col in df.columns})\n",
    "df.head()"
   ]
  },
  {
   "cell_type": "markdown",
   "metadata": {},
   "source": [
    "**Train test split**"
   ]
  },
  {
   "cell_type": "code",
   "execution_count": 24,
   "metadata": {},
   "outputs": [],
   "source": [
    "y = df.quality \n",
    "X = df.loc[:,df.columns != \"quality\"]"
   ]
  },
  {
   "cell_type": "code",
   "execution_count": 25,
   "metadata": {},
   "outputs": [],
   "source": [
    "#Normelize the data\n",
    "X = preprocessing.normalize(X)"
   ]
  },
  {
   "cell_type": "code",
   "execution_count": 26,
   "metadata": {},
   "outputs": [],
   "source": [
    "#split the dataset\n",
    "X_train, X_test, y_train, y_test = train_test_split(X, y, test_size=0.20,random_state=0)"
   ]
  },
  {
   "cell_type": "markdown",
   "metadata": {},
   "source": [
    "## Run the KNN "
   ]
  },
  {
   "cell_type": "code",
   "execution_count": 27,
   "metadata": {},
   "outputs": [],
   "source": [
    "#small baseline predict with the mean\n",
    "y_pred_b = []\n",
    "for el in range(0,len(y_test)):\n",
    "    y_pred_b.append(y_train.mean())"
   ]
  },
  {
   "cell_type": "code",
   "execution_count": 28,
   "metadata": {},
   "outputs": [
    {
     "name": "stdout",
     "output_type": "stream",
     "text": [
      "Mean abs error: 0.6390050820953871\n",
      "Mean squared error: 0.5752539443014328\n",
      "r2 score: 0.0\n"
     ]
    }
   ],
   "source": [
    "#Evaluate\n",
    "print( \"Mean abs error: {}\".format(mean_absolute_error(y_pred_b, y_test)))\n",
    "print( \"Mean squared error: {}\".format(mean_squared_error(y_pred_b, y_test)))\n",
    "print( \"r2 score: {}\".format(r2_score(y_pred_b, y_test)))"
   ]
  },
  {
   "cell_type": "markdown",
   "metadata": {},
   "source": [
    "**First model**"
   ]
  },
  {
   "cell_type": "code",
   "execution_count": 29,
   "metadata": {},
   "outputs": [],
   "source": [
    "neigh = KNeighborsClassifier(n_neighbors=3)\n",
    "neigh.fit(X_train, y_train)\n",
    "y_pred = neigh.predict(X_test)"
   ]
  },
  {
   "cell_type": "code",
   "execution_count": 30,
   "metadata": {},
   "outputs": [
    {
     "data": {
      "text/plain": [
       "array([3, 4, 5, 6, 7, 8], dtype=int64)"
      ]
     },
     "execution_count": 30,
     "metadata": {},
     "output_type": "execute_result"
    }
   ],
   "source": [
    "np.unique(y_pred)"
   ]
  },
  {
   "cell_type": "code",
   "execution_count": 31,
   "metadata": {},
   "outputs": [
    {
     "name": "stdout",
     "output_type": "stream",
     "text": [
      "Mean abs error: 0.578125\n",
      "Mean squared error: 0.815625\n",
      "r2 score: -0.4853017019082\n"
     ]
    }
   ],
   "source": [
    "#Evaluate\n",
    "mae = mean_absolute_error(y_pred, y_test)\n",
    "mse = mean_squared_error(y_pred, y_test)\n",
    "r2 = r2_score(y_pred, y_test)\n",
    "mape = np.mean(np.abs((y_test - y_pred) / y)) * 100\n",
    "print( \"Mean abs error: {}\".format(mae))\n",
    "print( \"Mean squared error: {}\".format(mse))\n",
    "print( \"r2 score: {}\".format(r2))"
   ]
  },
  {
   "cell_type": "markdown",
   "metadata": {},
   "source": [
    "### Optimization of the model with mlflow"
   ]
  },
  {
   "cell_type": "markdown",
   "metadata": {},
   "source": [
    "#### Parameters to optimize\n",
    "- P -> euclidian or mannahatan distance \n",
    "- n_neighbors \n",
    "- leaf size "
   ]
  },
  {
   "cell_type": "code",
   "execution_count": 32,
   "metadata": {},
   "outputs": [],
   "source": [
    "#error function\n",
    "def calculate_errors(y,ypred):\n",
    "    mae = mean_absolute_error(y,ypred)\n",
    "    mse = mean_squared_error(y, ypred)\n",
    "    R2 = r2_score(y,ypred)\n",
    "    y,ypred = np.array(y), np.array(ypred)\n",
    "    mape = np.mean(np.abs((y - ypred) / y)) * 100\n",
    "    return mae,mse,R2,mape"
   ]
  },
  {
   "cell_type": "code",
   "execution_count": 33,
   "metadata": {},
   "outputs": [],
   "source": [
    "#Mlflow function\n",
    "def train_knn(nb,leaf,dist,exp = None):\n",
    "    with mlflow.start_run(experiment_id=exp): #start mlflow run\n",
    "        neigh = KNeighborsClassifier(n_neighbors=nb, leaf_size= leaf, p = dist)\n",
    "        neigh.fit(X_train, y_train)\n",
    "        y_pred = neigh.predict(X_test)\n",
    "        \n",
    "        #calculate errors\n",
    "        mae,mse,R2,mape = calculate_errors(y_test,y_pred)\n",
    "        errors = mae,mse,R2,mape\n",
    "        print(\"MAE:{0:.3f}, MSE:{1:.2f}, R2:{2:.2f}\".format(mae, mse, R2))\n",
    "        \n",
    "        #log metris and parmeters\n",
    "        mlflow.log_metrics({\"MAE\":mae,\"MSE\":mse, \"R2\":R2, \"MAPE\":mape})\n",
    "        mlflow.log_params({\"Numbers of neighbors\": nb,\"Leaf size\":leaf,\"p\":dist})\n",
    "        \n",
    "        #register model\n",
    "        mlflow.sklearn.log_model(neigh, \"model\")\n",
    "        \n",
    "        #save error plot\n",
    "        plt.figure()\n",
    "        plt.bar(['mae','mse','R2','mape'],errors,color=['blue','red','green','orange']);\n",
    "        plt.title(\"Errors\")\n",
    "        plt.savefig(\"errors.png\")\n",
    "        plt.close()\n",
    "        mlflow.log_artifact(\"errors.png\")"
   ]
  },
  {
   "cell_type": "code",
   "execution_count": 34,
   "metadata": {},
   "outputs": [],
   "source": [
    "exp = mlflow.create_experiment(name=\"knn normelized\")"
   ]
  },
  {
   "cell_type": "code",
   "execution_count": 35,
   "metadata": {},
   "outputs": [
    {
     "name": "stdout",
     "output_type": "stream",
     "text": [
      "MAE:0.588, MSE:0.76, R2:-0.33\n",
      "MAE:0.588, MSE:0.76, R2:-0.33\n",
      "MAE:0.544, MSE:0.69, R2:-0.21\n",
      "MAE:0.544, MSE:0.69, R2:-0.21\n",
      "MAE:0.550, MSE:0.67, R2:-0.17\n",
      "MAE:0.550, MSE:0.67, R2:-0.17\n",
      "MAE:0.553, MSE:0.73, R2:-0.28\n",
      "MAE:0.553, MSE:0.73, R2:-0.28\n",
      "MAE:0.578, MSE:0.82, R2:-0.42\n",
      "MAE:0.578, MSE:0.82, R2:-0.42\n",
      "MAE:0.597, MSE:0.83, R2:-0.46\n",
      "MAE:0.597, MSE:0.83, R2:-0.46\n",
      "MAE:0.609, MSE:0.80, R2:-0.40\n",
      "MAE:0.609, MSE:0.80, R2:-0.40\n",
      "MAE:0.637, MSE:0.89, R2:-0.55\n",
      "MAE:0.637, MSE:0.89, R2:-0.55\n"
     ]
    }
   ],
   "source": [
    "p = [1,2]\n",
    "nei = [3,4,5,6]\n",
    "lea = [30,40]\n",
    "for pdist in p:\n",
    "    for nb in nei:\n",
    "        for l in lea:\n",
    "            train_knn(nb,l,pdist,exp)"
   ]
  },
  {
   "cell_type": "code",
   "execution_count": 36,
   "metadata": {},
   "outputs": [],
   "source": [
    "#log baseline \n",
    "mlflow.log_metrics({\"MAE\":mae,\"MSE\":mse, \"R2\":r2, \"MAPE\":mape})\n",
    "mlflow.log_params({\"Numbers of neighbors\": 0,\"Leaf size\":0,\"p\":0})\n",
    "#register model\n",
    "mlflow.sklearn.log_model(\"baseline\", \"model\")  \n",
    "mlflow.end_run()"
   ]
  },
  {
   "cell_type": "markdown",
   "metadata": {},
   "source": [
    "## Best model selector "
   ]
  },
  {
   "cell_type": "code",
   "execution_count": 41,
   "metadata": {},
   "outputs": [
    {
     "name": "stdout",
     "output_type": "stream",
     "text": [
      "Minimum error run_id:  8ac50649c1954d87b67e68177f38eff3\n"
     ]
    }
   ],
   "source": [
    "df = mlflow.search_runs(experiment_ids=\"1\")\n",
    "run_id = df.loc[df['metrics.MAE'].idxmin()]['run_id']\n",
    "print(\"Minimum error run_id: \",run_id)"
   ]
  },
  {
   "cell_type": "code",
   "execution_count": 63,
   "metadata": {},
   "outputs": [
    {
     "name": "stdout",
     "output_type": "stream",
     "text": [
      "Best number of neighbor: \n"
     ]
    },
    {
     "data": {
      "text/plain": [
       "12    4\n",
       "Name: params.Numbers of neighbors, dtype: object"
      ]
     },
     "execution_count": 63,
     "metadata": {},
     "output_type": "execute_result"
    }
   ],
   "source": [
    "print('Best number of neighbor: ')\n",
    "df.loc[df.run_id == \"8ac50649c1954d87b67e68177f38eff3\",'params.Numbers of neighbors']"
   ]
  }
 ],
 "metadata": {
  "jupytext": {
   "formats": "ipynb,md"
  },
  "kernelspec": {
   "display_name": "Python [conda env:root] *",
   "language": "python",
   "name": "conda-root-py"
  },
  "language_info": {
   "codemirror_mode": {
    "name": "ipython",
    "version": 3
   },
   "file_extension": ".py",
   "mimetype": "text/x-python",
   "name": "python",
   "nbconvert_exporter": "python",
   "pygments_lexer": "ipython3",
   "version": "3.7.6"
  }
 },
 "nbformat": 4,
 "nbformat_minor": 4
}
